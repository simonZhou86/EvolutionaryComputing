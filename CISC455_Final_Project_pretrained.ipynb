{
  "nbformat": 4,
  "nbformat_minor": 0,
  "metadata": {
    "colab": {
      "name": "CISC455 Final Project_pretrained.ipynb",
      "provenance": [],
      "collapsed_sections": [],
      "toc_visible": true,
      "authorship_tag": "ABX9TyNwJ2uSYk3QWmdXB1yh6nF7"
    },
    "kernelspec": {
      "name": "python3",
      "display_name": "Python 3"
    },
    "language_info": {
      "name": "python"
    },
    "accelerator": "GPU",
    "widgets": {
      "application/vnd.jupyter.widget-state+json": {
        "7953ebf662fb4583bfb794d137584ba8": {
          "model_module": "@jupyter-widgets/controls",
          "model_name": "HBoxModel",
          "model_module_version": "1.5.0",
          "state": {
            "_view_name": "HBoxView",
            "_dom_classes": [],
            "_model_name": "HBoxModel",
            "_view_module": "@jupyter-widgets/controls",
            "_model_module_version": "1.5.0",
            "_view_count": null,
            "_view_module_version": "1.5.0",
            "box_style": "",
            "layout": "IPY_MODEL_e81c190fec0945f9b3a48d65c5d98374",
            "_model_module": "@jupyter-widgets/controls",
            "children": [
              "IPY_MODEL_169469eecec348cb84e63b5227ab0321",
              "IPY_MODEL_a48966a31bc4493296f66d099e507c34",
              "IPY_MODEL_f87cabeb85034261b9e90fa40157ca34"
            ]
          }
        },
        "e81c190fec0945f9b3a48d65c5d98374": {
          "model_module": "@jupyter-widgets/base",
          "model_name": "LayoutModel",
          "model_module_version": "1.2.0",
          "state": {
            "_view_name": "LayoutView",
            "grid_template_rows": null,
            "right": null,
            "justify_content": null,
            "_view_module": "@jupyter-widgets/base",
            "overflow": null,
            "_model_module_version": "1.2.0",
            "_view_count": null,
            "flex_flow": null,
            "width": null,
            "min_width": null,
            "border": null,
            "align_items": null,
            "bottom": null,
            "_model_module": "@jupyter-widgets/base",
            "top": null,
            "grid_column": null,
            "overflow_y": null,
            "overflow_x": null,
            "grid_auto_flow": null,
            "grid_area": null,
            "grid_template_columns": null,
            "flex": null,
            "_model_name": "LayoutModel",
            "justify_items": null,
            "grid_row": null,
            "max_height": null,
            "align_content": null,
            "visibility": null,
            "align_self": null,
            "height": null,
            "min_height": null,
            "padding": null,
            "grid_auto_rows": null,
            "grid_gap": null,
            "max_width": null,
            "order": null,
            "_view_module_version": "1.2.0",
            "grid_template_areas": null,
            "object_position": null,
            "object_fit": null,
            "grid_auto_columns": null,
            "margin": null,
            "display": null,
            "left": null
          }
        },
        "169469eecec348cb84e63b5227ab0321": {
          "model_module": "@jupyter-widgets/controls",
          "model_name": "HTMLModel",
          "model_module_version": "1.5.0",
          "state": {
            "_view_name": "HTMLView",
            "style": "IPY_MODEL_46b7810d6ca94635be830d7aa2ad2186",
            "_dom_classes": [],
            "description": "",
            "_model_name": "HTMLModel",
            "placeholder": "​",
            "_view_module": "@jupyter-widgets/controls",
            "_model_module_version": "1.5.0",
            "value": "100%",
            "_view_count": null,
            "_view_module_version": "1.5.0",
            "description_tooltip": null,
            "_model_module": "@jupyter-widgets/controls",
            "layout": "IPY_MODEL_ee99e740785b47f7939708a3714a36aa"
          }
        },
        "a48966a31bc4493296f66d099e507c34": {
          "model_module": "@jupyter-widgets/controls",
          "model_name": "FloatProgressModel",
          "model_module_version": "1.5.0",
          "state": {
            "_view_name": "ProgressView",
            "style": "IPY_MODEL_36ee0db8634245e99a9e40aec8ec19c9",
            "_dom_classes": [],
            "description": "",
            "_model_name": "FloatProgressModel",
            "bar_style": "success",
            "max": 553433881,
            "_view_module": "@jupyter-widgets/controls",
            "_model_module_version": "1.5.0",
            "value": 553433881,
            "_view_count": null,
            "_view_module_version": "1.5.0",
            "orientation": "horizontal",
            "min": 0,
            "description_tooltip": null,
            "_model_module": "@jupyter-widgets/controls",
            "layout": "IPY_MODEL_6b6be43eaf4e4496b3f4273b119e95fd"
          }
        },
        "f87cabeb85034261b9e90fa40157ca34": {
          "model_module": "@jupyter-widgets/controls",
          "model_name": "HTMLModel",
          "model_module_version": "1.5.0",
          "state": {
            "_view_name": "HTMLView",
            "style": "IPY_MODEL_b662abb5cf8845709519e3a17f9fef8d",
            "_dom_classes": [],
            "description": "",
            "_model_name": "HTMLModel",
            "placeholder": "​",
            "_view_module": "@jupyter-widgets/controls",
            "_model_module_version": "1.5.0",
            "value": " 528M/528M [00:05&lt;00:00, 115MB/s]",
            "_view_count": null,
            "_view_module_version": "1.5.0",
            "description_tooltip": null,
            "_model_module": "@jupyter-widgets/controls",
            "layout": "IPY_MODEL_d3ca3bbe102c4c28aa2cd2a3fdf749ff"
          }
        },
        "46b7810d6ca94635be830d7aa2ad2186": {
          "model_module": "@jupyter-widgets/controls",
          "model_name": "DescriptionStyleModel",
          "model_module_version": "1.5.0",
          "state": {
            "_view_name": "StyleView",
            "_model_name": "DescriptionStyleModel",
            "description_width": "",
            "_view_module": "@jupyter-widgets/base",
            "_model_module_version": "1.5.0",
            "_view_count": null,
            "_view_module_version": "1.2.0",
            "_model_module": "@jupyter-widgets/controls"
          }
        },
        "ee99e740785b47f7939708a3714a36aa": {
          "model_module": "@jupyter-widgets/base",
          "model_name": "LayoutModel",
          "model_module_version": "1.2.0",
          "state": {
            "_view_name": "LayoutView",
            "grid_template_rows": null,
            "right": null,
            "justify_content": null,
            "_view_module": "@jupyter-widgets/base",
            "overflow": null,
            "_model_module_version": "1.2.0",
            "_view_count": null,
            "flex_flow": null,
            "width": null,
            "min_width": null,
            "border": null,
            "align_items": null,
            "bottom": null,
            "_model_module": "@jupyter-widgets/base",
            "top": null,
            "grid_column": null,
            "overflow_y": null,
            "overflow_x": null,
            "grid_auto_flow": null,
            "grid_area": null,
            "grid_template_columns": null,
            "flex": null,
            "_model_name": "LayoutModel",
            "justify_items": null,
            "grid_row": null,
            "max_height": null,
            "align_content": null,
            "visibility": null,
            "align_self": null,
            "height": null,
            "min_height": null,
            "padding": null,
            "grid_auto_rows": null,
            "grid_gap": null,
            "max_width": null,
            "order": null,
            "_view_module_version": "1.2.0",
            "grid_template_areas": null,
            "object_position": null,
            "object_fit": null,
            "grid_auto_columns": null,
            "margin": null,
            "display": null,
            "left": null
          }
        },
        "36ee0db8634245e99a9e40aec8ec19c9": {
          "model_module": "@jupyter-widgets/controls",
          "model_name": "ProgressStyleModel",
          "model_module_version": "1.5.0",
          "state": {
            "_view_name": "StyleView",
            "_model_name": "ProgressStyleModel",
            "description_width": "",
            "_view_module": "@jupyter-widgets/base",
            "_model_module_version": "1.5.0",
            "_view_count": null,
            "_view_module_version": "1.2.0",
            "bar_color": null,
            "_model_module": "@jupyter-widgets/controls"
          }
        },
        "6b6be43eaf4e4496b3f4273b119e95fd": {
          "model_module": "@jupyter-widgets/base",
          "model_name": "LayoutModel",
          "model_module_version": "1.2.0",
          "state": {
            "_view_name": "LayoutView",
            "grid_template_rows": null,
            "right": null,
            "justify_content": null,
            "_view_module": "@jupyter-widgets/base",
            "overflow": null,
            "_model_module_version": "1.2.0",
            "_view_count": null,
            "flex_flow": null,
            "width": null,
            "min_width": null,
            "border": null,
            "align_items": null,
            "bottom": null,
            "_model_module": "@jupyter-widgets/base",
            "top": null,
            "grid_column": null,
            "overflow_y": null,
            "overflow_x": null,
            "grid_auto_flow": null,
            "grid_area": null,
            "grid_template_columns": null,
            "flex": null,
            "_model_name": "LayoutModel",
            "justify_items": null,
            "grid_row": null,
            "max_height": null,
            "align_content": null,
            "visibility": null,
            "align_self": null,
            "height": null,
            "min_height": null,
            "padding": null,
            "grid_auto_rows": null,
            "grid_gap": null,
            "max_width": null,
            "order": null,
            "_view_module_version": "1.2.0",
            "grid_template_areas": null,
            "object_position": null,
            "object_fit": null,
            "grid_auto_columns": null,
            "margin": null,
            "display": null,
            "left": null
          }
        },
        "b662abb5cf8845709519e3a17f9fef8d": {
          "model_module": "@jupyter-widgets/controls",
          "model_name": "DescriptionStyleModel",
          "model_module_version": "1.5.0",
          "state": {
            "_view_name": "StyleView",
            "_model_name": "DescriptionStyleModel",
            "description_width": "",
            "_view_module": "@jupyter-widgets/base",
            "_model_module_version": "1.5.0",
            "_view_count": null,
            "_view_module_version": "1.2.0",
            "_model_module": "@jupyter-widgets/controls"
          }
        },
        "d3ca3bbe102c4c28aa2cd2a3fdf749ff": {
          "model_module": "@jupyter-widgets/base",
          "model_name": "LayoutModel",
          "model_module_version": "1.2.0",
          "state": {
            "_view_name": "LayoutView",
            "grid_template_rows": null,
            "right": null,
            "justify_content": null,
            "_view_module": "@jupyter-widgets/base",
            "overflow": null,
            "_model_module_version": "1.2.0",
            "_view_count": null,
            "flex_flow": null,
            "width": null,
            "min_width": null,
            "border": null,
            "align_items": null,
            "bottom": null,
            "_model_module": "@jupyter-widgets/base",
            "top": null,
            "grid_column": null,
            "overflow_y": null,
            "overflow_x": null,
            "grid_auto_flow": null,
            "grid_area": null,
            "grid_template_columns": null,
            "flex": null,
            "_model_name": "LayoutModel",
            "justify_items": null,
            "grid_row": null,
            "max_height": null,
            "align_content": null,
            "visibility": null,
            "align_self": null,
            "height": null,
            "min_height": null,
            "padding": null,
            "grid_auto_rows": null,
            "grid_gap": null,
            "max_width": null,
            "order": null,
            "_view_module_version": "1.2.0",
            "grid_template_areas": null,
            "object_position": null,
            "object_fit": null,
            "grid_auto_columns": null,
            "margin": null,
            "display": null,
            "left": null
          }
        }
      }
    }
  },
  "cells": [
    {
      "cell_type": "markdown",
      "metadata": {
        "id": "HybDDPMetEEd"
      },
      "source": [
        "# CISC455 Final Project - Convolutional Neural Networks Optimization using Genetic Algorithm\n",
        "\n",
        "Pretrained Part"
      ]
    },
    {
      "cell_type": "code",
      "metadata": {
        "colab": {
          "base_uri": "https://localhost:8080/"
        },
        "id": "oyCaLU7XIUb1",
        "outputId": "7c426663-c1a1-42cd-a92b-9c078f296acc"
      },
      "source": [
        "import torch\n",
        "import torchvision\n",
        "import torchvision.transforms as transforms\n",
        "import torch.nn as nn\n",
        "from torch.utils.data import Dataset, DataLoader, random_split\n",
        "import cv2\n",
        "import numpy as np\n",
        "import matplotlib.pyplot as plt\n",
        "import os\n",
        "import math\n",
        "from PIL import Image\n",
        "import pandas as pd\n",
        "import copy\n",
        "%matplotlib inline\n",
        "print(\"finished loading\")"
      ],
      "execution_count": null,
      "outputs": [
        {
          "output_type": "stream",
          "name": "stdout",
          "text": [
            "finished loading\n"
          ]
        }
      ]
    },
    {
      "cell_type": "code",
      "metadata": {
        "id": "ouqVp1SYImTg",
        "colab": {
          "base_uri": "https://localhost:8080/"
        },
        "outputId": "8d95a299-6eee-44cc-f130-55144d6fb60d"
      },
      "source": [
        "from google.colab import drive # get the access from google drive\n",
        "drive.mount('/content/drive/')"
      ],
      "execution_count": null,
      "outputs": [
        {
          "output_type": "stream",
          "name": "stdout",
          "text": [
            "Mounted at /content/drive/\n"
          ]
        }
      ]
    },
    {
      "cell_type": "code",
      "metadata": {
        "id": "dwSPRpuRU6Gm"
      },
      "source": [
        "path = '/content/drive/MyDrive/a3_train' # load image from google drive\n",
        "os.chdir(path)"
      ],
      "execution_count": null,
      "outputs": []
    },
    {
      "cell_type": "code",
      "metadata": {
        "colab": {
          "base_uri": "https://localhost:8080/",
          "height": 269
        },
        "id": "tdbRWvM5U79l",
        "outputId": "f0bbe7b0-5058-48aa-cc6e-bd24e9e22a17"
      },
      "source": [
        "train_img = Image.open('111.png').resize((256, 256))\n",
        "plt.imshow(train_img, \"gray\")\n",
        "plt.show()"
      ],
      "execution_count": null,
      "outputs": [
        {
          "output_type": "display_data",
          "data": {
            "image/png": "[encoded data removed]",
            "text/plain": [
              "<Figure size 432x288 with 1 Axes>"
            ]
          },
          "metadata": {
            "needs_background": "light"
          }
        }
      ]
    },
    {
      "cell_type": "code",
      "metadata": {
        "colab": {
          "base_uri": "https://localhost:8080/"
        },
        "id": "5XG79_R_xrQd",
        "outputId": "5fb676ec-eb6a-4477-b2eb-e915ae96aa75"
      },
      "source": [
        "train_img_arr = np.array(train_img)\n",
        "train_img_arr.shape"
      ],
      "execution_count": null,
      "outputs": [
        {
          "output_type": "execute_result",
          "data": {
            "text/plain": [
              "(256, 256, 3)"
            ]
          },
          "metadata": {},
          "execution_count": 8
        }
      ]
    },
    {
      "cell_type": "code",
      "metadata": {
        "colab": {
          "base_uri": "https://localhost:8080/"
        },
        "id": "H7qTpTPCVKpX",
        "outputId": "4f403690-8f11-4dd8-b383-f5954675cd16"
      },
      "source": [
        "y_train = pd.read_csv(\"/content/drive/MyDrive/y_train_covid.csv\")[\"infection\"]\n",
        "y_train"
      ],
      "execution_count": null,
      "outputs": [
        {
          "output_type": "execute_result",
          "data": {
            "text/plain": [
              "0      1\n",
              "1      1\n",
              "2      1\n",
              "3      0\n",
              "4      1\n",
              "      ..\n",
              "482    1\n",
              "483    1\n",
              "484    1\n",
              "485    1\n",
              "486    1\n",
              "Name: infection, Length: 487, dtype: int64"
            ]
          },
          "metadata": {},
          "execution_count": 4
        }
      ]
    },
    {
      "cell_type": "code",
      "metadata": {
        "colab": {
          "base_uri": "https://localhost:8080/"
        },
        "id": "9Wx_200mX1i2",
        "outputId": "3b33f743-b720-403a-f2b4-532c3d312177"
      },
      "source": [
        "print(os.listdir(path))"
      ],
      "execution_count": null,
      "outputs": [
        {
          "output_type": "stream",
          "name": "stdout",
          "text": [
            "['1.png', '101.png', '100.png', '0.png', '10.png', '106.png', '102.png', '120.png', '110.png', '107.png', '109.png', '123.png', '12.png', '104.png', '117.png', '103.png', '111.png', '114.png', '105.png', '116.png', '119.png', '121.png', '115.png', '112.png', '118.png', '113.png', '108.png', '11.png', '122.png', '128.png', '134.png', '136.png', '135.png', '125.png', '139.png', '137.png', '13.png', '132.png', '126.png', '124.png', '131.png', '127.png', '129.png', '133.png', '130.png', '138.png', '161.png', '145.png', '162.png', '146.png', '147.png', '142.png', '155.png', '158.png', '140.png', '141.png', '15.png', '160.png', '153.png', '144.png', '159.png', '149.png', '148.png', '157.png', '14.png', '154.png', '16.png', '143.png', '150.png', '151.png', '152.png', '156.png', '164.png', '168.png', '166.png', '176.png', '182.png', '173.png', '170.png', '175.png', '178.png', '167.png', '189.png', '188.png', '179.png', '165.png', '184.png', '18.png', '171.png', '163.png', '177.png', '172.png', '187.png', '169.png', '183.png', '186.png', '180.png', '181.png', '174.png', '17.png', '185.png', '205.png', '210.png', '208.png', '196.png', '200.png', '212.png', '213.png', '192.png', '211.png', '19.png', '204.png', '2.png', '193.png', '199.png', '21.png', '194.png', '207.png', '203.png', '202.png', '209.png', '191.png', '198.png', '20.png', '214.png', '197.png', '190.png', '201.png', '195.png', '206.png', '237.png', '252.png', '221.png', '234.png', '241.png', '251.png', '22.png', '217.png', '245.png', '24.png', '229.png', '236.png', '230.png', '233.png', '254.png', '243.png', '232.png', '224.png', '231.png', '216.png', '228.png', '238.png', '246.png', '23.png', '244.png', '242.png', '227.png', '250.png', '247.png', '223.png', '225.png', '215.png', '240.png', '239.png', '248.png', '249.png', '222.png', '218.png', '220.png', '253.png', '226.png', '235.png', '25.png', '219.png', '280.png', '265.png', '282.png', '26.png', '275.png', '284.png', '276.png', '260.png', '272.png', '273.png', '285.png', '277.png', '259.png', '281.png', '27.png', '255.png', '257.png', '269.png', '28.png', '263.png', '266.png', '270.png', '278.png', '258.png', '268.png', '271.png', '279.png', '262.png', '267.png', '256.png', '283.png', '261.png', '264.png', '274.png', '293.png', '288.png', '296.png', '294.png', '29.png', '289.png', '286.png', '3.png', '298.png', '30.png', '297.png', '291.png', '300.png', '295.png', '299.png', '292.png', '287.png', '290.png', '307.png', '302.png', '308.png', '314.png', '309.png', '311.png', '319.png', '301.png', '304.png', '324.png', '318.png', '325.png', '310.png', '32.png', '312.png', '320.png', '305.png', '315.png', '321.png', '313.png', '322.png', '317.png', '31.png', '316.png', '303.png', '323.png', '306.png', '329.png', '336.png', '331.png', '334.png', '327.png', '332.png', '328.png', '33.png', '330.png', '333.png', '335.png', '326.png', '358.png', '342.png', '357.png', '337.png', '356.png', '343.png', '360.png', '352.png', '354.png', '353.png', '361.png', '359.png', '364.png', '34.png', '366.png', '365.png', '355.png', '340.png', '344.png', '367.png', '346.png', '369.png', '345.png', '350.png', '363.png', '349.png', '348.png', '351.png', '347.png', '362.png', '368.png', '339.png', '338.png', '341.png', '35.png', '36.png', '370.png', '393.png', '37.png', '388.png', '392.png', '385.png', '375.png', '377.png', '38.png', '397.png', '382.png', '39.png', '373.png', '398.png', '394.png', '384.png', '379.png', '372.png', '383.png', '386.png', '380.png', '390.png', '387.png', '371.png', '378.png', '381.png', '389.png', '376.png', '391.png', '374.png', '396.png', '395.png', '418.png', '405.png', '413.png', '401.png', '404.png', '400.png', '419.png', '406.png', '42.png', '399.png', '411.png', '410.png', '41.png', '414.png', '412.png', '408.png', '409.png', '403.png', '4.png', '402.png', '417.png', '407.png', '415.png', '40.png', '416.png', '428.png', '425.png', '427.png', '442.png', '45.png', '429.png', '434.png', '433.png', '437.png', '44.png', '448.png', '435.png', '451.png', '438.png', '440.png', '446.png', '423.png', '431.png', '43.png', '426.png', '439.png', '436.png', '447.png', '450.png', '430.png', '444.png', '432.png', '441.png', '421.png', '443.png', '420.png', '424.png', '445.png', '422.png', '449.png', '461.png', '465.png', '479.png', '481.png', '475.png', '464.png', '460.png', '471.png', '474.png', '472.png', '468.png', '452.png', '459.png', '48.png', '46.png', '476.png', '458.png', '454.png', '477.png', '47.png', '463.png', '455.png', '473.png', '467.png', '469.png', '478.png', '457.png', '462.png', '480.png', '466.png', '470.png', '456.png', '453.png', '62.png', '6.png', '63.png', '53.png', '51.png', '61.png', '64.png', '65.png', '58.png', '485.png', '54.png', '55.png', '57.png', '482.png', '66.png', '5.png', '56.png', '52.png', '484.png', '483.png', '50.png', '60.png', '49.png', '486.png', '59.png', '74.png', '79.png', '77.png', '72.png', '8.png', '92.png', '67.png', '93.png', '88.png', '83.png', '76.png', '80.png', '96.png', '68.png', '82.png', '95.png', '71.png', '85.png', '69.png', '87.png', '84.png', '90.png', '94.png', '81.png', '89.png', '91.png', '73.png', '7.png', '70.png', '78.png', '86.png', '9.png', '75.png', '97.png', '98.png', '99.png']\n"
          ]
        }
      ]
    },
    {
      "cell_type": "code",
      "metadata": {
        "colab": {
          "base_uri": "https://localhost:8080/"
        },
        "id": "jsQ0n725kn_J",
        "outputId": "7b8e8b60-1d33-4296-a612-9f020479da0e"
      },
      "source": [
        "y_lab = np.array(y_train).reshape(1,-1)\n",
        "y_lab"
      ],
      "execution_count": null,
      "outputs": [
        {
          "output_type": "execute_result",
          "data": {
            "text/plain": [
              "array([[1, 1, 1, 0, 1, 1, 1, 1, 1, 1, 1, 0, 1, 1, 0, 1, 1, 1, 1, 1, 0, 1,\n",
              "        1, 1, 1, 0, 1, 0, 1, 1, 1, 1, 1, 1, 1, 1, 1, 0, 0, 1, 1, 0, 1, 0,\n",
              "        1, 0, 1, 1, 0, 1, 0, 1, 0, 1, 1, 1, 0, 1, 1, 1, 1, 1, 0, 0, 1, 1,\n",
              "        0, 0, 0, 0, 1, 1, 0, 1, 1, 1, 1, 1, 1, 1, 1, 0, 1, 1, 0, 1, 1, 0,\n",
              "        0, 1, 0, 1, 1, 1, 1, 0, 1, 1, 1, 1, 0, 0, 0, 0, 1, 0, 0, 1, 1, 1,\n",
              "        1, 1, 0, 1, 0, 1, 1, 1, 1, 0, 1, 1, 1, 1, 1, 1, 1, 0, 1, 1, 0, 0,\n",
              "        0, 1, 1, 1, 1, 1, 1, 1, 1, 1, 1, 0, 0, 1, 1, 1, 0, 1, 1, 0, 1, 1,\n",
              "        1, 0, 1, 1, 1, 1, 1, 1, 0, 0, 0, 1, 0, 0, 1, 0, 1, 1, 0, 1, 1, 1,\n",
              "        1, 1, 0, 1, 1, 0, 1, 0, 1, 0, 1, 0, 1, 0, 1, 1, 1, 0, 1, 0, 1, 0,\n",
              "        0, 1, 1, 1, 0, 0, 0, 1, 0, 1, 1, 1, 1, 1, 0, 1, 1, 0, 1, 0, 1, 1,\n",
              "        1, 1, 0, 1, 1, 0, 1, 1, 1, 0, 0, 1, 0, 0, 0, 0, 1, 1, 1, 0, 1, 1,\n",
              "        0, 1, 1, 1, 1, 1, 1, 1, 1, 1, 1, 1, 1, 0, 1, 0, 0, 1, 0, 1, 1, 1,\n",
              "        0, 1, 0, 1, 0, 1, 1, 1, 1, 1, 0, 1, 1, 1, 1, 1, 1, 0, 0, 1, 1, 1,\n",
              "        1, 1, 0, 0, 1, 1, 1, 0, 1, 1, 1, 1, 1, 1, 1, 1, 0, 0, 1, 1, 1, 1,\n",
              "        1, 0, 0, 0, 0, 0, 1, 0, 1, 0, 1, 0, 0, 1, 1, 1, 1, 1, 0, 0, 1, 1,\n",
              "        0, 1, 0, 0, 0, 1, 1, 1, 1, 1, 1, 0, 0, 1, 1, 1, 1, 0, 1, 0, 1, 1,\n",
              "        0, 1, 1, 1, 1, 0, 0, 0, 1, 0, 1, 0, 0, 0, 1, 0, 0, 0, 1, 1, 0, 1,\n",
              "        1, 0, 0, 1, 0, 1, 1, 1, 1, 0, 0, 0, 1, 1, 1, 0, 0, 1, 1, 0, 1, 0,\n",
              "        0, 1, 1, 0, 0, 1, 1, 1, 1, 1, 0, 1, 1, 1, 1, 1, 0, 1, 1, 1, 0, 0,\n",
              "        1, 1, 0, 0, 1, 1, 0, 1, 1, 1, 1, 1, 1, 1, 1, 1, 0, 1, 1, 0, 1, 0,\n",
              "        0, 1, 1, 0, 1, 1, 1, 1, 1, 0, 0, 1, 1, 0, 1, 1, 0, 1, 1, 1, 1, 0,\n",
              "        1, 1, 0, 1, 1, 1, 1, 0, 0, 0, 1, 1, 1, 1, 1, 1, 1, 1, 0, 1, 1, 1,\n",
              "        1, 1, 1]])"
            ]
          },
          "metadata": {},
          "execution_count": 85
        }
      ]
    },
    {
      "cell_type": "code",
      "metadata": {
        "colab": {
          "base_uri": "https://localhost:8080/"
        },
        "id": "x2RSibRZk9op",
        "outputId": "e7069776-0582-4e05-bd85-e5e657af75fd"
      },
      "source": [
        "y_lab.shape"
      ],
      "execution_count": null,
      "outputs": [
        {
          "output_type": "execute_result",
          "data": {
            "text/plain": [
              "(1, 487)"
            ]
          },
          "metadata": {},
          "execution_count": 86
        }
      ]
    },
    {
      "cell_type": "code",
      "metadata": {
        "id": "2fFbDE3vlGUq"
      },
      "source": [
        "negative, positive = np.bincount(y_train)\n",
        "class_0_weight = (1 / negative)*(negative + positive)/2.0 # scaling by total labels/2 suggested in the official document \n",
        "class_1_weight = (1 / positive)*(negative + positive)/2.0"
      ],
      "execution_count": null,
      "outputs": []
    },
    {
      "cell_type": "code",
      "metadata": {
        "id": "jUZC9nVrk9uC",
        "colab": {
          "base_uri": "https://localhost:8080/"
        },
        "outputId": "de5fb891-65c6-47fe-a88c-2bfe6e8c794f"
      },
      "source": [
        "class_weight = [class_0_weight, class_1_weight]\n",
        "class_weight"
      ],
      "execution_count": null,
      "outputs": [
        {
          "output_type": "execute_result",
          "data": {
            "text/plain": [
              "[1.512422360248447, 0.7469325153374233]"
            ]
          },
          "metadata": {},
          "execution_count": 25
        }
      ]
    },
    {
      "cell_type": "code",
      "metadata": {
        "id": "pbwrvsv1hpdt"
      },
      "source": [
        "def sort(file):\n",
        "  inidi = int(file.split(\".\")[0])\n",
        "  return inidi"
      ],
      "execution_count": null,
      "outputs": []
    },
    {
      "cell_type": "code",
      "metadata": {
        "id": "Jm05fIyNbmId"
      },
      "source": [
        "def load_data(cur_dir, width, height, y_lab):\n",
        "  data = torch.empty(0, 3, width, height)\n",
        "  labels = torch.empty(0)\n",
        "  sorted_path = sorted([file for file in os.listdir(cur_dir)], key=sort)\n",
        "  for ind, f in enumerate(sorted_path):\n",
        "    crop = Image.open(f).convert('RGB').resize((256, 256))\n",
        "    crop = np.array(crop, dtype=np.float32)\n",
        "    crop = crop / 255.\n",
        "    print(\"file: {}, shape: {}\".format(f, crop.shape))\n",
        "    print(\"file: {}, max: {}, min: {}\".format(f, np.max(crop), np.min(crop)))\n",
        "    crop = torch.from_numpy(crop)\n",
        "    crop = np.transpose(crop,(2,1,0))\n",
        "    print(\"reshape: \", crop.shape)\n",
        "    crop = crop.reshape(1, *crop.shape)\n",
        "    label = y_lab[0][ind]\n",
        "    label = torch.Tensor([int(label)])\n",
        "    data = torch.cat((data, crop), dim=0)\n",
        "    labels = torch.cat((labels, label))\n",
        "  return data, labels"
      ],
      "execution_count": null,
      "outputs": []
    },
    {
      "cell_type": "code",
      "metadata": {
        "id": "3d9Er2aCilMk"
      },
      "source": [
        "cur_dir = path\n",
        "width = 256\n",
        "height = 256\n",
        "x_train, x_lab = load_data(cur_dir, width, height, y_lab)"
      ],
      "execution_count": null,
      "outputs": []
    },
    {
      "cell_type": "code",
      "metadata": {
        "colab": {
          "base_uri": "https://localhost:8080/"
        },
        "id": "ZGibt2vnivl-",
        "outputId": "92e54a52-6387-417e-b369-75a82c999869"
      },
      "source": [
        "x_train.shape, x_lab.shape"
      ],
      "execution_count": null,
      "outputs": [
        {
          "output_type": "execute_result",
          "data": {
            "text/plain": [
              "(torch.Size([487, 3, 256, 256]), torch.Size([487]))"
            ]
          },
          "metadata": {},
          "execution_count": 90
        }
      ]
    },
    {
      "cell_type": "code",
      "metadata": {
        "id": "reZra2fBpHXi"
      },
      "source": [
        "torch.save(x_train, \"/content/drive/MyDrive/train_images455.pt\")\n",
        "torch.save(x_lab, \"/content/drive/MyDrive/train_labels455.pt\")"
      ],
      "execution_count": null,
      "outputs": []
    },
    {
      "cell_type": "code",
      "metadata": {
        "id": "MPHSum-hqZQU"
      },
      "source": [
        "x_train = torch.load(\"/content/drive/MyDrive/train_images455.pt\")\n",
        "x_lab = torch.load(\"/content/drive/MyDrive/train_labels455.pt\")"
      ],
      "execution_count": null,
      "outputs": []
    },
    {
      "cell_type": "code",
      "metadata": {
        "colab": {
          "base_uri": "https://localhost:8080/"
        },
        "id": "7Q3tu8SD7vzN",
        "outputId": "2c5381aa-d13a-465c-998e-7bc6c3372a6c"
      },
      "source": [
        "device = torch.device(\"cuda\" if torch.cuda.is_available() else \"cpu\")\n",
        "device"
      ],
      "execution_count": null,
      "outputs": [
        {
          "output_type": "execute_result",
          "data": {
            "text/plain": [
              "device(type='cuda')"
            ]
          },
          "metadata": {},
          "execution_count": 6
        }
      ]
    },
    {
      "cell_type": "code",
      "metadata": {
        "id": "3zFTROpb3ZKE"
      },
      "source": [
        "x_train = x_train.to(device)\n",
        "x_lab = x_lab.to(device)"
      ],
      "execution_count": null,
      "outputs": []
    },
    {
      "cell_type": "code",
      "metadata": {
        "id": "sV8eZzv8oEGU"
      },
      "source": [
        "class getID(Dataset):\n",
        "\tdef __init__(self, total_len):\n",
        "\t\tself.tmp = total_len\n",
        "\t\tself.total_len = self.tmp\n",
        "\t\n",
        "\tdef __len__(self):\n",
        "\t\treturn self.total_len\n",
        "\t\n",
        "\tdef __getitem__(self, ind):\n",
        "\t\treturn torch.Tensor([ind])"
      ],
      "execution_count": null,
      "outputs": []
    },
    {
      "cell_type": "code",
      "metadata": {
        "id": "WVb1RDLnp7kI",
        "colab": {
          "base_uri": "https://localhost:8080/"
        },
        "outputId": "3ae290af-d6e3-48ca-a9e0-5569825435ea"
      },
      "source": [
        "total_len = x_train.shape[0]\n",
        "total_len"
      ],
      "execution_count": null,
      "outputs": [
        {
          "output_type": "execute_result",
          "data": {
            "text/plain": [
              "487"
            ]
          },
          "metadata": {},
          "execution_count": 9
        }
      ]
    },
    {
      "cell_type": "code",
      "metadata": {
        "id": "4hglMDZ0p7vh"
      },
      "source": [
        "def get_train_val(train_ratio, total_len):\n",
        "  torch.manual_seed(1)\n",
        "  train_num = math.ceil(total_len * train_ratio)\n",
        "  train_set, val_set = random_split(getID(total_len), lengths=(train_num, total_len - train_num))\n",
        "  return train_set, val_set"
      ],
      "execution_count": null,
      "outputs": []
    },
    {
      "cell_type": "code",
      "metadata": {
        "id": "Nmy-rj9psYqL"
      },
      "source": [
        "train_set, val_set = get_train_val(0.80, total_len)"
      ],
      "execution_count": null,
      "outputs": []
    },
    {
      "cell_type": "code",
      "metadata": {
        "colab": {
          "base_uri": "https://localhost:8080/"
        },
        "id": "pAIIcO3jsyr2",
        "outputId": "dba3de6a-ad4b-42ec-88e8-056b1769aed9"
      },
      "source": [
        "train_loader = DataLoader(train_set, batch_size=32, num_workers=0, shuffle=True, drop_last=True)\n",
        "print(len(train_loader))"
      ],
      "execution_count": null,
      "outputs": [
        {
          "output_type": "stream",
          "name": "stdout",
          "text": [
            "12\n"
          ]
        }
      ]
    },
    {
      "cell_type": "code",
      "metadata": {
        "colab": {
          "base_uri": "https://localhost:8080/"
        },
        "id": "rwnLEaY5usSG",
        "outputId": "7b73f6b1-1bce-463b-91d9-1dd0660b97e5"
      },
      "source": [
        "val_loader = DataLoader(val_set, batch_size=32, num_workers=0, shuffle=True, drop_last=True)\n",
        "print(len(val_loader))"
      ],
      "execution_count": null,
      "outputs": [
        {
          "output_type": "stream",
          "name": "stdout",
          "text": [
            "3\n"
          ]
        }
      ]
    },
    {
      "cell_type": "code",
      "metadata": {
        "id": "64976q_6wEpW"
      },
      "source": [
        "from torchvision import models\n",
        "import torch.nn as nn\n",
        "def set_parameter_requires_grad(model):\n",
        "  for param in model.parameters():\n",
        "    param.requires_grad = False"
      ],
      "execution_count": null,
      "outputs": []
    },
    {
      "cell_type": "code",
      "source": [
        "model_ft = models.vgg16(pretrained=True)\n",
        "set_parameter_requires_grad(model_ft)\n",
        "num_ftrs = model_ft.classifier[6].in_features\n",
        "model_ft.classifier[6] = nn.Linear(num_ftrs,2)\n",
        "print(model_ft)"
      ],
      "metadata": {
        "colab": {
          "base_uri": "https://localhost:8080/",
          "height": 894,
          "referenced_widgets": [
            "7953ebf662fb4583bfb794d137584ba8",
            "e81c190fec0945f9b3a48d65c5d98374",
            "169469eecec348cb84e63b5227ab0321",
            "a48966a31bc4493296f66d099e507c34",
            "f87cabeb85034261b9e90fa40157ca34",
            "46b7810d6ca94635be830d7aa2ad2186",
            "ee99e740785b47f7939708a3714a36aa",
            "36ee0db8634245e99a9e40aec8ec19c9",
            "6b6be43eaf4e4496b3f4273b119e95fd",
            "b662abb5cf8845709519e3a17f9fef8d",
            "d3ca3bbe102c4c28aa2cd2a3fdf749ff"
          ]
        },
        "id": "U4oES_nKSkAC",
        "outputId": "1829b87c-a496-4943-d802-5258a0cff481"
      },
      "execution_count": null,
      "outputs": [
        {
          "output_type": "stream",
          "name": "stderr",
          "text": [
            "Downloading: \"https://download.pytorch.org/models/vgg16-397923af.pth\" to /root/.cache/torch/hub/checkpoints/vgg16-397923af.pth\n"
          ]
        },
        {
          "output_type": "display_data",
          "data": {
            "application/vnd.jupyter.widget-view+json": {
              "model_id": "7953ebf662fb4583bfb794d137584ba8",
              "version_minor": 0,
              "version_major": 2
            },
            "text/plain": [
              "  0%|          | 0.00/528M [00:00<?, ?B/s]"
            ]
          },
          "metadata": {}
        },
        {
          "output_type": "stream",
          "name": "stdout",
          "text": [
            "VGG(\n",
            "  (features): Sequential(\n",
            "    (0): Conv2d(3, 64, kernel_size=(3, 3), stride=(1, 1), padding=(1, 1))\n",
            "    (1): ReLU(inplace=True)\n",
            "    (2): Conv2d(64, 64, kernel_size=(3, 3), stride=(1, 1), padding=(1, 1))\n",
            "    (3): ReLU(inplace=True)\n",
            "    (4): MaxPool2d(kernel_size=2, stride=2, padding=0, dilation=1, ceil_mode=False)\n",
            "    (5): Conv2d(64, 128, kernel_size=(3, 3), stride=(1, 1), padding=(1, 1))\n",
            "    (6): ReLU(inplace=True)\n",
            "    (7): Conv2d(128, 128, kernel_size=(3, 3), stride=(1, 1), padding=(1, 1))\n",
            "    (8): ReLU(inplace=True)\n",
            "    (9): MaxPool2d(kernel_size=2, stride=2, padding=0, dilation=1, ceil_mode=False)\n",
            "    (10): Conv2d(128, 256, kernel_size=(3, 3), stride=(1, 1), padding=(1, 1))\n",
            "    (11): ReLU(inplace=True)\n",
            "    (12): Conv2d(256, 256, kernel_size=(3, 3), stride=(1, 1), padding=(1, 1))\n",
            "    (13): ReLU(inplace=True)\n",
            "    (14): Conv2d(256, 256, kernel_size=(3, 3), stride=(1, 1), padding=(1, 1))\n",
            "    (15): ReLU(inplace=True)\n",
            "    (16): MaxPool2d(kernel_size=2, stride=2, padding=0, dilation=1, ceil_mode=False)\n",
            "    (17): Conv2d(256, 512, kernel_size=(3, 3), stride=(1, 1), padding=(1, 1))\n",
            "    (18): ReLU(inplace=True)\n",
            "    (19): Conv2d(512, 512, kernel_size=(3, 3), stride=(1, 1), padding=(1, 1))\n",
            "    (20): ReLU(inplace=True)\n",
            "    (21): Conv2d(512, 512, kernel_size=(3, 3), stride=(1, 1), padding=(1, 1))\n",
            "    (22): ReLU(inplace=True)\n",
            "    (23): MaxPool2d(kernel_size=2, stride=2, padding=0, dilation=1, ceil_mode=False)\n",
            "    (24): Conv2d(512, 512, kernel_size=(3, 3), stride=(1, 1), padding=(1, 1))\n",
            "    (25): ReLU(inplace=True)\n",
            "    (26): Conv2d(512, 512, kernel_size=(3, 3), stride=(1, 1), padding=(1, 1))\n",
            "    (27): ReLU(inplace=True)\n",
            "    (28): Conv2d(512, 512, kernel_size=(3, 3), stride=(1, 1), padding=(1, 1))\n",
            "    (29): ReLU(inplace=True)\n",
            "    (30): MaxPool2d(kernel_size=2, stride=2, padding=0, dilation=1, ceil_mode=False)\n",
            "  )\n",
            "  (avgpool): AdaptiveAvgPool2d(output_size=(7, 7))\n",
            "  (classifier): Sequential(\n",
            "    (0): Linear(in_features=25088, out_features=4096, bias=True)\n",
            "    (1): ReLU(inplace=True)\n",
            "    (2): Dropout(p=0.5, inplace=False)\n",
            "    (3): Linear(in_features=4096, out_features=4096, bias=True)\n",
            "    (4): ReLU(inplace=True)\n",
            "    (5): Dropout(p=0.5, inplace=False)\n",
            "    (6): Linear(in_features=4096, out_features=2, bias=True)\n",
            "  )\n",
            ")\n"
          ]
        }
      ]
    },
    {
      "cell_type": "code",
      "metadata": {
        "id": "_fS0nkiQr38x"
      },
      "source": [
        "def initializae_network(single_pop, num_classes):\n",
        "  '''\n",
        "  This function is for initializing the network given the parameters\n",
        "  single_pop: single parent in total_pop\n",
        "  num_classes: number of classes for the task\n",
        "  '''\n",
        "  net = MyClassifier(single_pop, num_classes)\n",
        "  return net\n"
      ],
      "execution_count": null,
      "outputs": []
    },
    {
      "cell_type": "code",
      "metadata": {
        "id": "QP0mv2Z7zsG3"
      },
      "source": [
        "def compute_loss(model, optimizer, images, target, loss_fn, train_mode):\n",
        "\n",
        "  predicted = model(images)\n",
        "  #print(predicted)\n",
        "  #predicted_lab = torch.argmax(predicted, dim=1).float()\n",
        "  #print(predicted)\n",
        "  loss = loss_fn(predicted, target.long())\n",
        "\n",
        "  if train_mode:\n",
        "      loss.backward()\n",
        "      optimizer.step()\n",
        "      optimizer.zero_grad()\n",
        "  else:\n",
        "      return loss.item(), torch.argmax(predicted, dim=1).float()\n",
        "\n",
        "  return loss.item()"
      ],
      "execution_count": null,
      "outputs": []
    },
    {
      "cell_type": "code",
      "metadata": {
        "id": "10OBdWhZ1vX4"
      },
      "source": [
        "def train(net, train_ind, train_img, train_lab, val_ind, optimizer, epochs, lr, weights):\n",
        "  loss_fn = nn.CrossEntropyLoss(weight=torch.Tensor(weights).to(device), reduction=\"mean\")\n",
        "  lowest_loss = np.inf\n",
        "  total_val_acc = []\n",
        "  for epoch in range(epochs):\n",
        "    net.zero_grad()\n",
        "    loss = 0\n",
        "    #net.train()\n",
        "    for batch_idx in train_ind:\n",
        "        net.train()\n",
        "        #optimizer.zero_grad()\n",
        "        batch_idx = batch_idx.view(-1).long()\n",
        "        image_batch, label_batch = train_img[batch_idx], train_lab[batch_idx]\n",
        "        train_loss = compute_loss(net, optimizer, image_batch, label_batch, loss_fn, train_mode=True)\n",
        "        loss += train_loss\n",
        "\n",
        "    loss /= len(train_ind)\n",
        "    print(\"epoch: {}, train loss: {}\".format(epoch+1, loss))\n",
        "    loss_eval = 0\n",
        "\n",
        "    #net.eval()\n",
        "    with torch.no_grad():\n",
        "      net.eval()\n",
        "      actual_labels = torch.empty(0).long()\n",
        "      predicted_labels = torch.empty(0).float()\n",
        "      for batch_idx in val_ind:\n",
        "          batch_idx = batch_idx.view(-1).long()\n",
        "          image_batch, label_batch = train_img[batch_idx], train_lab[batch_idx]\n",
        "          #print(\"val_ind: \", label_batch)\n",
        "          actual_labels = torch.cat((actual_labels, label_batch.cpu()))\n",
        "          eval_loss, predicted = compute_loss(net, optimizer, image_batch, label_batch, loss_fn, train_mode=False)\n",
        "          predicted_labels = torch.cat((predicted_labels, predicted.cpu()))\n",
        "          #print(\"val_ind predict: \", predicted)\n",
        "          #val_acc = torch.sum(torch.squeeze(predicted).float() == all_label).item() / float(all_label.size()[0])\n",
        "          loss_eval += eval_loss\n",
        "      loss_eval /= len(val_ind)\n",
        "      val_acc = torch.sum(predicted_labels == actual_labels).item() / len(actual_labels)\n",
        "      total_val_acc.append(val_acc)\n",
        "      print(\"eval loss: \", loss_eval)\n",
        "      print(\"validation accuracy: \", val_acc)\n",
        "  return np.mean(total_val_acc)"
      ],
      "execution_count": null,
      "outputs": []
    },
    {
      "cell_type": "code",
      "source": [
        "import time\n",
        "lr = 0.0005\n",
        "optimizer = torch.optim.Adam(model_ft.parameters(), lr=lr)\n",
        "epochs = 20\n",
        "start = time.time()\n",
        "val_acc = train(model_ft.to(device), train_loader, x_train, x_lab, val_loader, optimizer, epochs, lr, class_weight)\n",
        "used = time.time()-start\n",
        "print(\"training time: \", used)\n",
        "print(val_acc)"
      ],
      "metadata": {
        "colab": {
          "base_uri": "https://localhost:8080/"
        },
        "id": "reHG50QhWIIz",
        "outputId": "24df0a13-d2b8-49d3-f1bb-6ab338bb273c"
      },
      "execution_count": null,
      "outputs": [
        {
          "output_type": "stream",
          "name": "stdout",
          "text": [
            "epoch: 1, train loss: 0.6948675662279129\n",
            "eval loss:  0.7034751176834106\n",
            "validation accuracy:  0.3958333333333333\n",
            "epoch: 2, train loss: 0.6520494620005289\n",
            "eval loss:  0.6404335896174113\n",
            "validation accuracy:  0.7291666666666666\n",
            "epoch: 3, train loss: 0.6173509582877159\n",
            "eval loss:  0.6222799817721049\n",
            "validation accuracy:  0.6666666666666666\n",
            "epoch: 4, train loss: 0.5917341684301695\n",
            "eval loss:  0.6177941163380941\n",
            "validation accuracy:  0.71875\n",
            "epoch: 5, train loss: 0.5747624610861143\n",
            "eval loss:  0.6111293236414591\n",
            "validation accuracy:  0.7083333333333334\n",
            "epoch: 6, train loss: 0.5524620339274406\n",
            "eval loss:  0.5951898892720541\n",
            "validation accuracy:  0.7291666666666666\n",
            "epoch: 7, train loss: 0.5301657468080521\n",
            "eval loss:  0.6170672376950582\n",
            "validation accuracy:  0.7083333333333334\n",
            "epoch: 8, train loss: 0.5402769943078359\n",
            "eval loss:  0.5962462226549784\n",
            "validation accuracy:  0.7395833333333334\n",
            "epoch: 9, train loss: 0.5547492156426111\n",
            "eval loss:  0.6318174799283346\n",
            "validation accuracy:  0.7083333333333334\n",
            "epoch: 10, train loss: 0.5202940702438354\n",
            "eval loss:  0.6035616000493368\n",
            "validation accuracy:  0.7083333333333334\n",
            "epoch: 11, train loss: 0.5285100812713305\n",
            "eval loss:  0.6090966463088989\n",
            "validation accuracy:  0.6979166666666666\n",
            "epoch: 12, train loss: 0.5102743407090505\n",
            "eval loss:  0.6226357420285543\n",
            "validation accuracy:  0.6979166666666666\n",
            "epoch: 13, train loss: 0.5177070125937462\n",
            "eval loss:  0.6138395269711813\n",
            "validation accuracy:  0.6875\n",
            "epoch: 14, train loss: 0.4960981408754985\n",
            "eval loss:  0.6418510874112447\n",
            "validation accuracy:  0.6979166666666666\n",
            "epoch: 15, train loss: 0.4896221583088239\n",
            "eval loss:  0.6016036073366801\n",
            "validation accuracy:  0.6875\n",
            "epoch: 16, train loss: 0.4953213756283124\n",
            "eval loss:  0.6272950172424316\n",
            "validation accuracy:  0.6979166666666666\n",
            "epoch: 17, train loss: 0.510023852189382\n",
            "eval loss:  0.6382930080095927\n",
            "validation accuracy:  0.6979166666666666\n",
            "epoch: 18, train loss: 0.4848382870356242\n",
            "eval loss:  0.6270164052645365\n",
            "validation accuracy:  0.6770833333333334\n",
            "epoch: 19, train loss: 0.49111852298180264\n",
            "eval loss:  0.699605921904246\n",
            "validation accuracy:  0.7291666666666666\n",
            "epoch: 20, train loss: 0.5092430536945661\n",
            "eval loss:  0.6172900001207987\n",
            "validation accuracy:  0.6770833333333334\n",
            "training time:  216.97675108909607\n",
            "0.6880208333333334\n"
          ]
        }
      ]
    },
    {
      "cell_type": "code",
      "source": [
        ""
      ],
      "metadata": {
        "id": "55fI_PSmFxa6"
      },
      "execution_count": null,
      "outputs": []
    }
  ]
}